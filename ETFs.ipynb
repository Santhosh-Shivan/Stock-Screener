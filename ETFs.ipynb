{
 "cells": [
  {
   "cell_type": "code",
   "execution_count": 105,
   "metadata": {},
   "outputs": [],
   "source": [
    "import pandas as pd\n",
    "\n",
    "ETFs = pd.read_csv(\"ETFs screener/ETF Screener_2024-08-06.csv\")\n",
    "ETFs = ETFs.sort_values(by=['Assets under management'], ascending=False )"
   ]
  },
  {
   "cell_type": "code",
   "execution_count": 13,
   "metadata": {},
   "outputs": [],
   "source": [
    "def flatten(xss):\n",
    "    return [x for xs in xss for x in xs]\n"
   ]
  },
  {
   "cell_type": "markdown",
   "metadata": {},
   "source": [
    "### Taking SYMBOLS from the txt file"
   ]
  },
  {
   "cell_type": "code",
   "execution_count": 18,
   "metadata": {},
   "outputs": [],
   "source": [
    "with open('ETFs screener\\Sector ETFs.txt', 'r') as file:\n",
    "    data = file.read()\n",
    "#ticker.split(\".\")"
   ]
  },
  {
   "cell_type": "code",
   "execution_count": 19,
   "metadata": {},
   "outputs": [],
   "source": [
    "x = data.split(\",\")"
   ]
  },
  {
   "cell_type": "code",
   "execution_count": 22,
   "metadata": {},
   "outputs": [],
   "source": [
    "ETFs2 = []\n",
    "for txt in x:\n",
    "    if \":\" in txt:\n",
    "        ETFs2.append(txt.split(\":\")[1])"
   ]
  },
  {
   "cell_type": "markdown",
   "metadata": {},
   "source": [
    "### Filtering the ETFs "
   ]
  },
  {
   "cell_type": "code",
   "execution_count": 99,
   "metadata": {},
   "outputs": [],
   "source": [
    "NOPE = [\"iShares Global\"]\n",
    "titles = [\"iShares\", \"VanEck\", \"Invesco\" , \"Vanguard\", \"Fidelity\", \"Select Sector\", \"SPDR S&P\"] #\"ARK\""
   ]
  },
  {
   "cell_type": "code",
   "execution_count": 106,
   "metadata": {},
   "outputs": [],
   "source": [
    "focus_ETFs = []\n",
    "for index, row in ETFs.iterrows():\n",
    "    nope_flag = True\n",
    "    for nope in NOPE:\n",
    "        if nope in row[\"Description\"]:\n",
    "            nope_flag = False\n",
    "    if nope_flag == True:\n",
    "        for title in titles:\n",
    "            if title in row[\"Description\"]:\n",
    "                focus_ETFs.append(row[\"Symbol\"])"
   ]
  },
  {
   "cell_type": "code",
   "execution_count": 108,
   "metadata": {},
   "outputs": [],
   "source": [
    "sectors = {}\n",
    "for ETF in focus_ETFs:\n",
    "    sector = ETFs.loc[ETFs['Symbol'] == ETF][\"Focus\"].values[0] \n",
    "    if sector not in sectors.keys():\n",
    "        sectors[sector] = []\n",
    "    sectors[sector].append(ETF)\n",
    "\n",
    "sectors = dict(sorted(sectors.items(), key=lambda i: -len(i[1])))"
   ]
  },
  {
   "cell_type": "code",
   "execution_count": 109,
   "metadata": {},
   "outputs": [
    {
     "data": {
      "text/plain": [
       "{'Theme': ['IGM',\n",
       "  'GNR',\n",
       "  'ITB',\n",
       "  'IFRA',\n",
       "  'PHO',\n",
       "  'USCL',\n",
       "  'PABU',\n",
       "  'KOMP',\n",
       "  'CGW',\n",
       "  'TAN',\n",
       "  'CRBN',\n",
       "  'IHAK',\n",
       "  'PNQI',\n",
       "  'MOO',\n",
       "  'IRBO',\n",
       "  'NANR'],\n",
       " 'Financials': ['XLF',\n",
       "  'VFH',\n",
       "  'KRE',\n",
       "  'IYF',\n",
       "  'EUFN',\n",
       "  'KBE',\n",
       "  'FNCL',\n",
       "  'KBWB',\n",
       "  'IYG',\n",
       "  'IAI',\n",
       "  'BIZD',\n",
       "  'KIE',\n",
       "  'IAT',\n",
       "  'REM',\n",
       "  'IAK'],\n",
       " 'Information technology': ['VGT',\n",
       "  'XLK',\n",
       "  'SMH',\n",
       "  'IYW',\n",
       "  'SOXX',\n",
       "  'FTEC',\n",
       "  'IGV',\n",
       "  'RSPT',\n",
       "  'XT',\n",
       "  'XSD',\n",
       "  'PSI',\n",
       "  'CQQQ'],\n",
       " 'Health care': ['XLV',\n",
       "  'VHT',\n",
       "  'IBB',\n",
       "  'XBI',\n",
       "  'IHI',\n",
       "  'IYH',\n",
       "  'FHLC',\n",
       "  'RSPH',\n",
       "  'IHF',\n",
       "  'PPH',\n",
       "  'IHE'],\n",
       " 'Industrials': ['XLI',\n",
       "  'ITA',\n",
       "  'VIS',\n",
       "  'PPA',\n",
       "  'XAR',\n",
       "  'IYJ',\n",
       "  'FIDU',\n",
       "  'IYT',\n",
       "  'RSPN'],\n",
       " 'Materials': ['GDX',\n",
       "  'XLB',\n",
       "  'GDXJ',\n",
       "  'VAW',\n",
       "  'XME',\n",
       "  'PICK',\n",
       "  'IYM',\n",
       "  'RING',\n",
       "  'FMAT'],\n",
       " 'Energy': ['XLE', 'VDE', 'XOP', 'FENY', 'OIH', 'IYE', 'IEO', 'RSPG'],\n",
       " 'Real estate': ['VNQ', 'XLRE', 'IYR', 'VNQI', 'USRT', 'ICF', 'FREL', 'REZ'],\n",
       " 'Consumer discretionary': ['XLY', 'VCR', 'FDIS', 'IYC'],\n",
       " 'Utilities': ['XLU', 'VPU', 'IDU', 'FUTY'],\n",
       " 'Consumer staples': ['XLP', 'VDC', 'IYK', 'FSTA'],\n",
       " 'Communication services': ['XLC', 'VOX', 'FCOM']}"
      ]
     },
     "execution_count": 109,
     "metadata": {},
     "output_type": "execute_result"
    }
   ],
   "source": [
    "sectors"
   ]
  },
  {
   "cell_type": "code",
   "execution_count": 111,
   "metadata": {},
   "outputs": [
    {
     "data": {
      "text/plain": [
       "['IGM',\n",
       " 'GNR',\n",
       " 'ITB',\n",
       " 'IFRA',\n",
       " 'PHO',\n",
       " 'USCL',\n",
       " 'PABU',\n",
       " 'KOMP',\n",
       " 'CGW',\n",
       " 'TAN',\n",
       " 'CRBN',\n",
       " 'IHAK',\n",
       " 'PNQI',\n",
       " 'MOO',\n",
       " 'IRBO',\n",
       " 'NANR',\n",
       " 'XLF',\n",
       " 'VFH',\n",
       " 'KRE',\n",
       " 'IYF',\n",
       " 'EUFN',\n",
       " 'KBE',\n",
       " 'FNCL',\n",
       " 'KBWB',\n",
       " 'IYG',\n",
       " 'IAI',\n",
       " 'BIZD',\n",
       " 'KIE',\n",
       " 'IAT',\n",
       " 'REM',\n",
       " 'IAK',\n",
       " 'VGT',\n",
       " 'XLK',\n",
       " 'SMH',\n",
       " 'IYW',\n",
       " 'SOXX',\n",
       " 'FTEC',\n",
       " 'IGV',\n",
       " 'RSPT',\n",
       " 'XT',\n",
       " 'XSD',\n",
       " 'PSI',\n",
       " 'CQQQ',\n",
       " 'XLV',\n",
       " 'VHT',\n",
       " 'IBB',\n",
       " 'XBI',\n",
       " 'IHI',\n",
       " 'IYH',\n",
       " 'FHLC',\n",
       " 'RSPH',\n",
       " 'IHF',\n",
       " 'PPH',\n",
       " 'IHE',\n",
       " 'XLI',\n",
       " 'ITA',\n",
       " 'VIS',\n",
       " 'PPA',\n",
       " 'XAR',\n",
       " 'IYJ',\n",
       " 'FIDU',\n",
       " 'IYT',\n",
       " 'RSPN',\n",
       " 'GDX',\n",
       " 'XLB',\n",
       " 'GDXJ',\n",
       " 'VAW',\n",
       " 'XME',\n",
       " 'PICK',\n",
       " 'IYM',\n",
       " 'RING',\n",
       " 'FMAT',\n",
       " 'XLE',\n",
       " 'VDE',\n",
       " 'XOP',\n",
       " 'FENY',\n",
       " 'OIH',\n",
       " 'IYE',\n",
       " 'IEO',\n",
       " 'RSPG',\n",
       " 'VNQ',\n",
       " 'XLRE',\n",
       " 'IYR',\n",
       " 'VNQI',\n",
       " 'USRT',\n",
       " 'ICF',\n",
       " 'FREL',\n",
       " 'REZ',\n",
       " 'XLY',\n",
       " 'VCR',\n",
       " 'FDIS',\n",
       " 'IYC',\n",
       " 'XLU',\n",
       " 'VPU',\n",
       " 'IDU',\n",
       " 'FUTY',\n",
       " 'XLP',\n",
       " 'VDC',\n",
       " 'IYK',\n",
       " 'FSTA',\n",
       " 'XLC',\n",
       " 'VOX',\n",
       " 'FCOM']"
      ]
     },
     "execution_count": 111,
     "metadata": {},
     "output_type": "execute_result"
    }
   ],
   "source": [
    "flatten(sectors.values())"
   ]
  }
 ],
 "metadata": {
  "kernelspec": {
   "display_name": "Python 3",
   "language": "python",
   "name": "python3"
  },
  "language_info": {
   "codemirror_mode": {
    "name": "ipython",
    "version": 3
   },
   "file_extension": ".py",
   "mimetype": "text/x-python",
   "name": "python",
   "nbconvert_exporter": "python",
   "pygments_lexer": "ipython3",
   "version": "3.9.0"
  }
 },
 "nbformat": 4,
 "nbformat_minor": 2
}
