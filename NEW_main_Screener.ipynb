{
 "cells": [
  {
   "cell_type": "code",
   "execution_count": 154,
   "metadata": {},
   "outputs": [],
   "source": [
    "import datetime\n",
    "import fetcher\n",
    "import compute\n",
    "import pandas as pd\n",
    "from finta import TA\n",
    "import numpy as np\n",
    "import warnings; warnings.simplefilter('ignore')\n",
    "\n",
    "startDate = datetime.date(2020, 1, 1)\n",
    "endDate = datetime.date(2024, 8, 24)\n",
    "#endDate = datetime.date.today()\n",
    "Stocks_list = []#\"NVDA\", \"AAPL\", \"DKNG\", \"UBER\"\n",
    "\n",
    "# Retrieving tickers from a file\n",
    "stocks = pd.read_csv(\"SCANS\\\\US_2024-08-24.csv\")\n",
    "#Neglecting tickers with Exchange values \"AMEX\" and \"OTC\"\n",
    "stocks = stocks[~stocks[\"Exchange\"].isin([\"OTC\", \"AMEX\"])]\n",
    "#stocks = stocks[~stocks[\"Industry\"].isin([\"Biotechnology\", \"Pharmaceuticals: major\", \"Medical Specialties\"])]\n",
    "for ticker in stocks[\"Symbol\"].tolist()[1:]:\n",
    "    Stocks_list.append(ticker)\n",
    "\n",
    "df_index = fetcher.__download_data( [\"SPY\"], startDate, endDate, \"US\")\n",
    "\n",
    "info = {}\n",
    "RS_scores = {}\n",
    "\n",
    "focus_list_IPO = pd.DataFrame(columns=['ticker','ADR','ADV'])\n",
    "for ticker in Stocks_list:\n",
    "    \n",
    "    #Neglecting tickers with .A or .B or \"/\" in their names\n",
    "    if len(ticker.split(\".\")) >1 or len(ticker.split(\"/\")) >1:\n",
    "        continue\n",
    "    df = fetcher.__download_data([ticker], startDate, endDate, \"US\")\n",
    "    \n",
    "    ## Having this in the beginning is to have all the stocks while calculating percentile\n",
    "    RS_score = compute.RS_score(df[\"Close\"][-63:], df_index[\"Close\"][-63:]) #3 Months\n",
    "    RS_scores[ticker] = RS_score \n",
    "    \n",
    "    # IPO stocks in the last 3 years\n",
    "    if len(df) < 252*2:\n",
    "        # Avg Volume*Price\n",
    "        if len(df) > 30:\n",
    "            ADV = compute.avg_dollar_vol(df, 30)\n",
    "        \n",
    "                \n",
    "        # ADR%\n",
    "        if len(df) > 20:\n",
    "            ADR = compute.ADR(df, 20)\n",
    "            \n",
    "            new_row = {\"ticker\":ticker, \"ADR\": ADR, \"ADV\": ADV}\n",
    "            focus_list_IPO = pd.concat([focus_list_IPO, pd.DataFrame([new_row])], ignore_index=True)\n",
    "    else:\n",
    "        # Avg Volume*Price\n",
    "        ADV = compute.avg_dollar_vol(df, 30)\n",
    "\n",
    "        # ADR%\n",
    "        ADR = compute.ADR(df, 20)\n",
    "        \n",
    "        #52 week highs\n",
    "        _52weekHigh = max(df[\"Close\"][-252:])\n",
    "\n",
    "        # Small pullback calculation -> Close must be 5% or more below 21 day High\n",
    "        _20DayHigh = max(df[\"Close\"][-21:])\n",
    "\n",
    "        # Relative Volume\n",
    "        RVol = df.iloc[-1][\"Volume\"]/df['Volume'].rolling(window=30).mean().values[-1]\n",
    "\n",
    "\n",
    "        # RS\n",
    "        #RS = compute.RS_line(df, df_index, 252)\n",
    "        EMA10 = TA.EMA(df, period= 10)\n",
    "        EMA21 = TA.EMA(df, period= 21)\n",
    "        SMA50 =  np.convolve(df[\"Close\"], np.ones(50)/50, mode='valid')\n",
    "        SMA200 = np.convolve(df[\"Close\"], np.ones(200)/200, mode='valid')\n",
    "        slope50 = compute.linear_regression(SMA50[-10:])\n",
    "        slope200 = compute.linear_regression(SMA200[-10:])\n",
    "        #compute.calc_slope(SMA[-42:], 42)\n",
    "        #print(angle)\n",
    "        info[ticker] = {\"Close\": df[\"Close\"][-1],\"High\": df[\"High\"][-1],\"Low\": df[\"Low\"][-1], \"ADR\" : ADR, \"ADV\" : ADV, \"RVol\": RVol, \"52weekHigh\":_52weekHigh, \"20DayHigh\": _20DayHigh, \"EMA10\": EMA10[-1], \"EMA21\": EMA21[-1], \"SMA50\": SMA50[-1], \"SMA200\": SMA200[-1], \"Slope50\": slope50, \"Slope200\": slope200}\n",
    "        #RS_rating_test[ticker] = compute.RS_rating_new(RS_scores)\n",
    "\n",
    "\n",
    "# Sorting based on RS_score \n",
    "RS_scores = {ticker: RS_score for ticker, RS_score in sorted(RS_scores.items(), key=lambda item: item[1])}\n",
    "\n",
    "\n",
    "# RS_rating for the stocks\n",
    "RS_ratings = compute.RS_rating(RS_scores)\n",
    "\n",
    "# Storing all info in a dataframe\n",
    "focus = pd.DataFrame(columns=['ticker',\"Close\", 'ADR','ADV', \"RVol\", '52weekHigh', \"20DayHigh\",'RS_ratings', \"EMA10\", \"EMA21\",\"SMA50\", \"SMA200\", \"Slope50\", \"Slope200\"])\n",
    "for ticker, values in info.items():\n",
    "    new_row = {\"ticker\":ticker, \"Close\" : values[\"Close\"],\"High\" : values[\"High\"],\"Low\" : values[\"Low\"], \"ADR\": values[\"ADR\"], \"ADV\": values[\"ADV\"], \"RVol\": values[\"RVol\"], '52weekHigh' : values[\"52weekHigh\"], \"20DayHigh\" : values[\"20DayHigh\"], \"RS_ratings\": RS_ratings[ticker], \"EMA10\":values[\"EMA10\"], \"EMA21\":values[\"EMA21\"], \"SMA50\": values[\"SMA50\"], \"SMA200\": values[\"SMA200\"], \"Slope50\": values[\"Slope50\"], \"Slope200\": values[\"Slope200\"]}\n",
    "    focus = pd.concat([focus,pd.DataFrame([new_row])], ignore_index=True)\n",
    "    \n",
    "\n"
   ]
  },
  {
   "cell_type": "markdown",
   "metadata": {},
   "source": [
    "### Filtering IPO list"
   ]
  },
  {
   "cell_type": "code",
   "execution_count": 157,
   "metadata": {},
   "outputs": [
    {
     "data": {
      "text/plain": [
       "7"
      ]
     },
     "execution_count": 157,
     "metadata": {},
     "output_type": "execute_result"
    }
   ],
   "source": [
    "final_focus_IPO = focus_list_IPO.loc[(focus['ADR'] >=2.75) & (focus['ADV'] >=50000000)]\n",
    "len(final_focus_IPO)"
   ]
  },
  {
   "cell_type": "markdown",
   "metadata": {},
   "source": [
    "### Filtering NON IPO stocks"
   ]
  },
  {
   "cell_type": "code",
   "execution_count": 158,
   "metadata": {},
   "outputs": [
    {
     "data": {
      "text/plain": [
       "76"
      ]
     },
     "execution_count": 158,
     "metadata": {},
     "output_type": "execute_result"
    }
   ],
   "source": [
    "#RS_rating of 70 here is equivalent to ~85 in tradingview\n",
    "#& focus[\"High\"] >= focus[\"EMA21\"]\n",
    "final_focus_NON_IPO = focus.loc[ (focus['ADR'] >=2) & (focus['ADV'] >=50000000) & (focus['ADV'] <1000000000)   & (focus[\"RS_ratings\"] >= 70) &(focus[\"Close\"] >= focus['SMA200']) &(focus[\"Close\"] >= focus['SMA50']) & (focus['SMA50'] >=focus['SMA200']) & (focus['Close'] >=.8*focus['52weekHigh'])& (focus['Slope200'] >=0) &((focus[\"Low\"]/focus[\"High\"]-1) >= -.035)]  #& (focus['RVol'] <=1)& (focus[\"Close\"] <= .99*focus['20DayHigh'])  & (focus['Slope200'] >=0)(focus['RS_ratings'] >= 40) \n",
    "len(final_focus_NON_IPO[\"ticker\"].values)"
   ]
  },
  {
   "cell_type": "code",
   "execution_count": 159,
   "metadata": {},
   "outputs": [
    {
     "data": {
      "text/plain": [
       "array(['AXON', 'FTAI', 'ERJ', 'CHRW', 'BOOT', 'BURL', 'ALSN', 'HALO',\n",
       "       'ANET', 'GDDY', 'OLLI', 'COHR', 'FLR', 'EFX', 'TRU', 'SFM', 'TRGP',\n",
       "       'DHI', 'LEN', 'THC', 'UHS', 'LII', 'FTNT', 'GWRE', 'VRNS', 'PSN',\n",
       "       'NU', 'RYAN', 'CHWY', 'MELI', 'MMYT', 'EVR', 'JEF', 'TPL', 'TMDX',\n",
       "       'GKOS', 'ISRG', 'LH', 'MLI', 'PYPL', 'FOUR', 'BFAM', 'KNSL', 'PGR',\n",
       "       'HRB', 'PLNT', 'CRS', 'DOCS', 'ADSK', 'CYBR', 'IDCC', 'SMAR',\n",
       "       'FICO', 'CVLT', 'UTHR', 'ALNY', 'REGN', 'TGTX', 'NEM', 'GOLD',\n",
       "       'AEM', 'CBRE', 'PSA', 'KIM', 'BRX', 'IRM', 'CUBE', 'EXR', 'AMT',\n",
       "       'COLD', 'WELL', 'BFH', 'CRUS', 'MPWR', 'FNF', 'DKS'], dtype=object)"
      ]
     },
     "execution_count": 159,
     "metadata": {},
     "output_type": "execute_result"
    }
   ],
   "source": [
    "final_focus_NON_IPO[\"ticker\"].values"
   ]
  },
  {
   "cell_type": "code",
   "execution_count": 160,
   "metadata": {},
   "outputs": [
    {
     "data": {
      "text/plain": [
       "19"
      ]
     },
     "execution_count": 160,
     "metadata": {},
     "output_type": "execute_result"
    }
   ],
   "source": [
    "final_focus_NON_IPO_large_ADV = focus.loc[ (focus['ADR'] >=2.25) & (focus['ADV'] >=1000000000) &(focus[\"Close\"] >= focus['SMA200'])  & (focus['SMA50'] >=focus['SMA200']) & (focus['Close'] >=.8*focus['52weekHigh'])]#& (focus[\"EMA10\"] >= focus['SMA50']) & (focus[\"EMA21\"] >= focus['SMA50'])\n",
    "len(final_focus_NON_IPO_large_ADV)"
   ]
  },
  {
   "cell_type": "code",
   "execution_count": 161,
   "metadata": {},
   "outputs": [],
   "source": [
    "final_focus_NON_IPO = pd.concat([final_focus_NON_IPO, final_focus_NON_IPO_large_ADV, final_focus_IPO], axis=0)"
   ]
  },
  {
   "cell_type": "code",
   "execution_count": 162,
   "metadata": {},
   "outputs": [
    {
     "data": {
      "text/plain": [
       "102"
      ]
     },
     "execution_count": 162,
     "metadata": {},
     "output_type": "execute_result"
    }
   ],
   "source": [
    "len(final_focus_NON_IPO)"
   ]
  },
  {
   "cell_type": "markdown",
   "metadata": {},
   "source": [
    "### Sorting"
   ]
  },
  {
   "cell_type": "code",
   "execution_count": 163,
   "metadata": {},
   "outputs": [],
   "source": [
    "final_focus_NON_IPO = pd.DataFrame(final_focus_NON_IPO.sort_values(by=['ADR'], ascending=False).to_numpy(), \n",
    "                   index=final_focus_NON_IPO.index, columns=final_focus_NON_IPO.columns)"
   ]
  },
  {
   "cell_type": "code",
   "execution_count": 164,
   "metadata": {},
   "outputs": [
    {
     "data": {
      "text/plain": [
       "\"final_focus_NON_IPO = pd.DataFrame(final_focus_NON_IPO.sort_values(by=['RS_ratings'], ascending=True).to_numpy(), \\n                   index=final_focus_NON_IPO.index, columns=final_focus_NON_IPO.columns)\""
      ]
     },
     "execution_count": 164,
     "metadata": {},
     "output_type": "execute_result"
    }
   ],
   "source": [
    "\"\"\"final_focus_NON_IPO = pd.DataFrame(final_focus_NON_IPO.sort_values(by=['RS_ratings'], ascending=True).to_numpy(), \n",
    "                   index=final_focus_NON_IPO.index, columns=final_focus_NON_IPO.columns)\"\"\""
   ]
  },
  {
   "cell_type": "code",
   "execution_count": 165,
   "metadata": {},
   "outputs": [],
   "source": [
    "stocks = stocks.replace({'/': '_'}, regex=True)"
   ]
  },
  {
   "cell_type": "markdown",
   "metadata": {},
   "source": [
    "### Grouping by Sectors & Industries"
   ]
  },
  {
   "cell_type": "code",
   "execution_count": 166,
   "metadata": {},
   "outputs": [],
   "source": [
    "sectors = {}\n",
    "industries = {}\n",
    "for index, row in final_focus_NON_IPO.iterrows():\n",
    "    exchange = stocks.loc[stocks['Symbol'] == row[\"ticker\"]][\"Exchange\"].values[0]\n",
    "    sector = stocks.loc[stocks['Symbol'] == row[\"ticker\"]][\"Sector\"].values[0]\n",
    "    #print(sector)\n",
    "    industry = stocks.loc[stocks['Symbol'] == row[\"ticker\"]][\"Industry\"].values[0]\n",
    "    #print(industry)\n",
    "    if sector not in sectors.keys():\n",
    "        sectors[sector] = {}\n",
    "        \n",
    "    if industry not in sectors[sector].keys():\n",
    "        #print(industry)\n",
    "        sectors[sector][industry] = []\n",
    "    \n",
    "    #print(sectors)\n",
    "            #print(sectors[sector])\n",
    "    sectors[sector][industry].append(row[\"ticker\"])\n"
   ]
  },
  {
   "cell_type": "code",
   "execution_count": 167,
   "metadata": {},
   "outputs": [
    {
     "data": {
      "text/plain": [
       "{'Electronic technology': {'Semiconductors': ['ALAB',\n",
       "   'ARM',\n",
       "   'NVDA',\n",
       "   'MPWR',\n",
       "   'AVGO',\n",
       "   'TSM',\n",
       "   'CRUS'],\n",
       "  'Electronic equipment_Instruments': ['COHR'],\n",
       "  'Aerospace & defense': ['FTAI', 'ERJ', 'AXON'],\n",
       "  'Computer peripherals': ['ANET'],\n",
       "  'Telecommunications equipment': ['AAPL']},\n",
       " 'Technology services': {'Packaged software': ['IBTA',\n",
       "   'PLTR',\n",
       "   'CVLT',\n",
       "   'DOCS',\n",
       "   'PANW',\n",
       "   'CYBR',\n",
       "   'FICO',\n",
       "   'NOW',\n",
       "   'SMAR',\n",
       "   'IDCC',\n",
       "   'ADSK'],\n",
       "  'Internet software_Services': ['MMYT', 'META', 'NFLX', 'GOOGL', 'GOOG'],\n",
       "  'Information technology services': ['NU', 'VRNS', 'FTNT', 'PSN', 'GWRE'],\n",
       "  'Data processing services': ['GDDY']},\n",
       " 'Health technology': {'Pharmaceuticals: major': ['TGTX',\n",
       "   'ALNY',\n",
       "   'LLY',\n",
       "   'UTHR',\n",
       "   'REGN'],\n",
       "  'Medical specialties': ['TMDX', 'GKOS', 'ISRG'],\n",
       "  'Biotechnology': ['HALO']},\n",
       " 'Retail trade': {'Internet retail': ['CHWY', 'MELI', 'AMZN', 'BABA'],\n",
       "  'Apparel_Footwear retail': ['BOOT', 'BURL'],\n",
       "  'Specialty stores': ['DKS'],\n",
       "  'Department stores': ['OLLI'],\n",
       "  'Food retail': ['SFM'],\n",
       "  'Home improvement chains': ['HD']},\n",
       " 'Commercial services': {'Miscellaneous commercial services': ['FOUR',\n",
       "   'PYPL',\n",
       "   'BFAM'],\n",
       "  'Financial publishing_Services': ['TRU', 'EFX']},\n",
       " 'Non-energy minerals': {'Other metals_Minerals': ['CRS'],\n",
       "  'Construction materials': ['KNF'],\n",
       "  'Precious metals': ['GOLD', 'AEM', 'NEM']},\n",
       " 'Finance': {'Regional banks': ['BFH'],\n",
       "  'Multi-line insurance': ['HG', 'KNSL', 'PGR'],\n",
       "  'Finance_Rental_Leasing': ['KSPI'],\n",
       "  'Investment banks_Brokers': ['EVR', 'GS', 'JEF'],\n",
       "  'Real estate investment trusts': ['IRM',\n",
       "   'EXR',\n",
       "   'PSA',\n",
       "   'COLD',\n",
       "   'CUBE',\n",
       "   'BRX',\n",
       "   'AMT',\n",
       "   'KIM',\n",
       "   'WELL'],\n",
       "  'Insurance brokers_Services': ['RYAN'],\n",
       "  'Real estate development': ['CBRE'],\n",
       "  'Major banks': ['BAC'],\n",
       "  'Specialty insurance': ['FNF']},\n",
       " 'Transportation': {'Other transportation': ['UBER'],\n",
       "  'Air freight_Couriers': ['CHRW']},\n",
       " 'Industrial services': {'Engineering & construction': ['FLR']},\n",
       " 'Consumer services': {'Hotels_Resorts_Cruise lines': ['ATAT'],\n",
       "  'Other consumer services': ['PLNT', 'HRB', 'BKNG']},\n",
       " 'Miscellaneous': {'Investment trusts_Mutual funds': ['TPL']},\n",
       " 'Producer manufacturing': {'Metal fabrication': ['MLI'],\n",
       "  'Industrial machinery': ['LII'],\n",
       "  'Auto parts: OEM': ['ALSN']},\n",
       " 'Health services': {'Hospital_Nursing management': ['THC', 'UHS'],\n",
       "  'Medical_Nursing services': ['LH']},\n",
       " 'Consumer durables': {'Homebuilding': ['DHI', 'LEN']},\n",
       " 'Utilities': {'Gas distributors': ['TRGP']}}"
      ]
     },
     "execution_count": 167,
     "metadata": {},
     "output_type": "execute_result"
    }
   ],
   "source": [
    "sectors"
   ]
  },
  {
   "cell_type": "code",
   "execution_count": 168,
   "metadata": {},
   "outputs": [],
   "source": [
    "bam = []\n",
    "industries_not_interested = []# \"Finance\", \"Health technology\"\n",
    "for sector,values in sectors.items():\n",
    "    if sector not in industries_not_interested:\n",
    "        for industry in values.values():\n",
    "            for ticker in list(industry):\n",
    "                bam.append(ticker)\n"
   ]
  },
  {
   "cell_type": "code",
   "execution_count": 169,
   "metadata": {},
   "outputs": [
    {
     "data": {
      "text/html": [
       "<div>\n",
       "<style scoped>\n",
       "    .dataframe tbody tr th:only-of-type {\n",
       "        vertical-align: middle;\n",
       "    }\n",
       "\n",
       "    .dataframe tbody tr th {\n",
       "        vertical-align: top;\n",
       "    }\n",
       "\n",
       "    .dataframe thead th {\n",
       "        text-align: right;\n",
       "    }\n",
       "</style>\n",
       "<table border=\"1\" class=\"dataframe\">\n",
       "  <thead>\n",
       "    <tr style=\"text-align: right;\">\n",
       "      <th></th>\n",
       "      <th>ticker</th>\n",
       "      <th>Close</th>\n",
       "      <th>ADR</th>\n",
       "      <th>ADV</th>\n",
       "      <th>RVol</th>\n",
       "      <th>52weekHigh</th>\n",
       "      <th>20DayHigh</th>\n",
       "      <th>RS_ratings</th>\n",
       "      <th>EMA10</th>\n",
       "      <th>EMA21</th>\n",
       "      <th>SMA50</th>\n",
       "      <th>SMA200</th>\n",
       "      <th>Slope50</th>\n",
       "      <th>Slope200</th>\n",
       "      <th>High</th>\n",
       "      <th>Low</th>\n",
       "    </tr>\n",
       "  </thead>\n",
       "  <tbody>\n",
       "    <tr>\n",
       "      <th>923</th>\n",
       "      <td>AXON</td>\n",
       "      <td>370.700012</td>\n",
       "      <td>3.279618</td>\n",
       "      <td>229774446.438066</td>\n",
       "      <td>0.676132</td>\n",
       "      <td>375.100006</td>\n",
       "      <td>375.100006</td>\n",
       "      <td>90</td>\n",
       "      <td>366.387966</td>\n",
       "      <td>350.6676</td>\n",
       "      <td>318.139001</td>\n",
       "      <td>285.96185</td>\n",
       "      <td>1.818202</td>\n",
       "      <td>0.830109</td>\n",
       "      <td>376.047791</td>\n",
       "      <td>369.434296</td>\n",
       "    </tr>\n",
       "  </tbody>\n",
       "</table>\n",
       "</div>"
      ],
      "text/plain": [
       "    ticker       Close       ADR               ADV      RVol  52weekHigh  \\\n",
       "923   AXON  370.700012  3.279618  229774446.438066  0.676132  375.100006   \n",
       "\n",
       "      20DayHigh RS_ratings       EMA10     EMA21       SMA50     SMA200  \\\n",
       "923  375.100006         90  366.387966  350.6676  318.139001  285.96185   \n",
       "\n",
       "      Slope50  Slope200        High         Low  \n",
       "923  1.818202  0.830109  376.047791  369.434296  "
      ]
     },
     "execution_count": 169,
     "metadata": {},
     "output_type": "execute_result"
    }
   ],
   "source": [
    "final_focus_NON_IPO.loc[final_focus_NON_IPO[\"ticker\"] == \"AXON\"]"
   ]
  },
  {
   "cell_type": "code",
   "execution_count": 170,
   "metadata": {},
   "outputs": [
    {
     "name": "stdout",
     "output_type": "stream",
     "text": [
      "['ALAB', 'ARM', 'NVDA', 'MPWR', 'AVGO', 'TSM', 'CRUS', 'COHR', 'FTAI', 'ERJ', 'AXON', 'ANET', 'AAPL', 'IBTA', 'PLTR', 'CVLT', 'DOCS', 'PANW', 'CYBR', 'FICO', 'NOW', 'SMAR', 'IDCC', 'ADSK', 'MMYT', 'META', 'NFLX', 'GOOGL', 'GOOG', 'NU', 'VRNS', 'FTNT', 'PSN', 'GWRE', 'GDDY', 'TGTX', 'ALNY', 'LLY', 'UTHR', 'REGN', 'TMDX', 'GKOS', 'ISRG', 'HALO', 'CHWY', 'MELI', 'AMZN', 'BABA', 'BOOT', 'BURL', 'DKS', 'OLLI', 'SFM', 'HD', 'FOUR', 'PYPL', 'BFAM', 'TRU', 'EFX', 'CRS', 'KNF', 'GOLD', 'AEM', 'NEM', 'BFH', 'HG', 'KNSL', 'PGR', 'KSPI', 'EVR', 'GS', 'JEF', 'IRM', 'EXR', 'PSA', 'COLD', 'CUBE', 'BRX', 'AMT', 'KIM', 'WELL', 'RYAN', 'CBRE', 'BAC', 'FNF', 'UBER', 'CHRW', 'FLR', 'ATAT', 'PLNT', 'HRB', 'BKNG', 'TPL', 'MLI', 'LII', 'ALSN', 'THC', 'UHS', 'LH', 'DHI', 'LEN', 'TRGP']\n"
     ]
    }
   ],
   "source": [
    "print(bam)"
   ]
  },
  {
   "cell_type": "code",
   "execution_count": null,
   "metadata": {},
   "outputs": [],
   "source": []
  },
  {
   "cell_type": "code",
   "execution_count": null,
   "metadata": {},
   "outputs": [],
   "source": []
  },
  {
   "cell_type": "code",
   "execution_count": null,
   "metadata": {},
   "outputs": [],
   "source": []
  },
  {
   "cell_type": "code",
   "execution_count": null,
   "metadata": {},
   "outputs": [],
   "source": []
  },
  {
   "cell_type": "code",
   "execution_count": null,
   "metadata": {},
   "outputs": [],
   "source": []
  },
  {
   "cell_type": "code",
   "execution_count": 70,
   "metadata": {},
   "outputs": [],
   "source": [
    "industries_to_concentrate = ['Telecommunications equipment',\n",
    " 'Aerospace & defense',\n",
    " 'Homebuilding',\n",
    " 'Data processing services',\n",
    " 'Specialty stores',\n",
    " 'Home improvement chains',\n",
    " 'Food retail',\n",
    " 'Pharmaceuticals: other',\n",
    " 'Pharmaceuticals: generic',\n",
    " 'Financial publishing/Services',\n",
    " 'Managed health care',\n",
    " 'Hospital/Nursing management',\n",
    " 'Services to the health industry',\n",
    " 'Medical/Nursing services',\n",
    " 'Major banks',\n",
    " 'Investment banks/Brokers',\n",
    " 'Investment managers',\n",
    " 'Finance/Rental/Leasing',\n",
    " 'Multi-line insurance',\n",
    " 'Real estate investment trusts',\n",
    " 'Regional banks',\n",
    " 'Property/Casualty insurance',\n",
    " 'Insurance brokers/Services',\n",
    " 'Life/Health insurance',\n",
    " 'Real estate development',\n",
    " 'Specialty insurance',\n",
    " 'Building products',\n",
    " 'Metal fabrication',\n",
    " 'Office equipment/Supplies',\n",
    " 'Air freight/Couriers',\n",
    " 'Tobacco',\n",
    " 'Broadcasting',\n",
    " 'Publishing: newspapers',\n",
    " 'Media conglomerates',\n",
    " 'Publishing: books/magazines',\n",
    " 'Wireless telecommunications',\n",
    " 'Specialty telecommunications',\n",
    " 'Gas distributors',\n",
    " 'Water utilities',\n",
    " 'Alternative power generation',\n",
    " 'Chemicals: specialty',\n",
    " 'Industrial specialties',\n",
    " 'Pulp & paper',\n",
    " 'Precious metals',\n",
    " 'Medical distributors',\n",
    " 'Environmental services',\n",
    " 'Oil & gas pipelines',\n",
    " 'Investment trusts/Mutual funds',\n",
    " 'Miscellaneous']"
   ]
  },
  {
   "cell_type": "code",
   "execution_count": 71,
   "metadata": {},
   "outputs": [],
   "source": [
    "final_final_focus_industries = {}\n",
    "for sector in sectors.values():\n",
    "    for industry, tickers in sector.items():\n",
    "        if industry in industries_to_concentrate:\n",
    "            if industry not in final_final_focus_industries.keys():\n",
    "                final_final_focus_industries[industry] = []\n",
    "            for ticker in tickers:\n",
    "                final_final_focus_industries[industry].append(ticker)\n"
   ]
  },
  {
   "cell_type": "code",
   "execution_count": 72,
   "metadata": {},
   "outputs": [
    {
     "data": {
      "text/plain": [
       "{'Telecommunications equipment': ['AAPL'],\n",
       " 'Aerospace & defense': ['HWM', 'AXON', 'FTAI', 'ERJ'],\n",
       " 'Investment managers': ['KKR'],\n",
       " 'Major banks': ['CFG', 'KEY'],\n",
       " 'Real estate investment trusts': ['IRM', 'EXR', 'SLG', 'VNO'],\n",
       " 'Regional banks': ['FCNCA', 'MTB', 'ALLY', 'WAL', 'SNV', 'EWBC'],\n",
       " 'Real estate development': ['CBRE', 'JLL'],\n",
       " 'Pharmaceuticals: other': ['ARGX', 'RVMD'],\n",
       " 'Pharmaceuticals: generic': ['TEVA'],\n",
       " 'Specialty stores': ['CVNA'],\n",
       " 'Food retail': ['SFM'],\n",
       " 'Homebuilding': ['DHI', 'LEN', 'PHM', 'TOL', 'KBH', 'TMHC'],\n",
       " 'Precious metals': ['GOLD', 'NEM', 'AEM', 'KGC'],\n",
       " 'Specialty telecommunications': ['ASTS'],\n",
       " 'Building products': ['MHK'],\n",
       " 'Environmental services': ['CLH']}"
      ]
     },
     "execution_count": 72,
     "metadata": {},
     "output_type": "execute_result"
    }
   ],
   "source": [
    "final_final_focus_industries"
   ]
  },
  {
   "cell_type": "code",
   "execution_count": 73,
   "metadata": {},
   "outputs": [],
   "source": [
    "final_final_focus = []\n",
    "for industry in list(final_final_focus_industries.values()):\n",
    "    for ticker in industry:\n",
    "        final_final_focus.append(ticker)\n",
    "\n"
   ]
  },
  {
   "cell_type": "code",
   "execution_count": 74,
   "metadata": {},
   "outputs": [
    {
     "data": {
      "text/plain": [
       "['AAPL',\n",
       " 'HWM',\n",
       " 'AXON',\n",
       " 'FTAI',\n",
       " 'ERJ',\n",
       " 'KKR',\n",
       " 'CFG',\n",
       " 'KEY',\n",
       " 'IRM',\n",
       " 'EXR',\n",
       " 'SLG',\n",
       " 'VNO',\n",
       " 'FCNCA',\n",
       " 'MTB',\n",
       " 'ALLY',\n",
       " 'WAL',\n",
       " 'SNV',\n",
       " 'EWBC',\n",
       " 'CBRE',\n",
       " 'JLL',\n",
       " 'ARGX',\n",
       " 'RVMD',\n",
       " 'TEVA',\n",
       " 'CVNA',\n",
       " 'SFM',\n",
       " 'DHI',\n",
       " 'LEN',\n",
       " 'PHM',\n",
       " 'TOL',\n",
       " 'KBH',\n",
       " 'TMHC',\n",
       " 'GOLD',\n",
       " 'NEM',\n",
       " 'AEM',\n",
       " 'KGC',\n",
       " 'ASTS',\n",
       " 'MHK',\n",
       " 'CLH']"
      ]
     },
     "execution_count": 74,
     "metadata": {},
     "output_type": "execute_result"
    }
   ],
   "source": [
    "final_final_focus"
   ]
  },
  {
   "cell_type": "code",
   "execution_count": 1,
   "metadata": {},
   "outputs": [
    {
     "ename": "NameError",
     "evalue": "name 'final_focus_IPO' is not defined",
     "output_type": "error",
     "traceback": [
      "\u001b[1;31m---------------------------------------------------------------------------\u001b[0m",
      "\u001b[1;31mNameError\u001b[0m                                 Traceback (most recent call last)",
      "\u001b[1;32m~\\AppData\\Local\\Temp\\ipykernel_8136\\3450034896.py\u001b[0m in \u001b[0;36m<cell line: 2>\u001b[1;34m()\u001b[0m\n\u001b[0;32m      1\u001b[0m \u001b[0msectors_IPO\u001b[0m \u001b[1;33m=\u001b[0m \u001b[1;33m{\u001b[0m\u001b[1;33m}\u001b[0m\u001b[1;33m\u001b[0m\u001b[1;33m\u001b[0m\u001b[0m\n\u001b[1;32m----> 2\u001b[1;33m \u001b[1;32mfor\u001b[0m \u001b[0mindex\u001b[0m\u001b[1;33m,\u001b[0m \u001b[0mrow\u001b[0m \u001b[1;32min\u001b[0m \u001b[0mfinal_focus_IPO\u001b[0m\u001b[1;33m.\u001b[0m\u001b[0miterrows\u001b[0m\u001b[1;33m(\u001b[0m\u001b[1;33m)\u001b[0m\u001b[1;33m:\u001b[0m\u001b[1;33m\u001b[0m\u001b[1;33m\u001b[0m\u001b[0m\n\u001b[0m\u001b[0;32m      3\u001b[0m     \u001b[0mexchange\u001b[0m \u001b[1;33m=\u001b[0m \u001b[0mstocks\u001b[0m\u001b[1;33m.\u001b[0m\u001b[0mloc\u001b[0m\u001b[1;33m[\u001b[0m\u001b[0mstocks\u001b[0m\u001b[1;33m[\u001b[0m\u001b[1;34m'Symbol'\u001b[0m\u001b[1;33m]\u001b[0m \u001b[1;33m==\u001b[0m \u001b[0mrow\u001b[0m\u001b[1;33m[\u001b[0m\u001b[1;34m\"ticker\"\u001b[0m\u001b[1;33m]\u001b[0m\u001b[1;33m]\u001b[0m\u001b[1;33m[\u001b[0m\u001b[1;34m\"Exchange\"\u001b[0m\u001b[1;33m]\u001b[0m\u001b[1;33m.\u001b[0m\u001b[0mvalues\u001b[0m\u001b[1;33m[\u001b[0m\u001b[1;36m0\u001b[0m\u001b[1;33m]\u001b[0m\u001b[1;33m\u001b[0m\u001b[1;33m\u001b[0m\u001b[0m\n\u001b[0;32m      4\u001b[0m     \u001b[0msector\u001b[0m \u001b[1;33m=\u001b[0m \u001b[0mstocks\u001b[0m\u001b[1;33m.\u001b[0m\u001b[0mloc\u001b[0m\u001b[1;33m[\u001b[0m\u001b[0mstocks\u001b[0m\u001b[1;33m[\u001b[0m\u001b[1;34m'Symbol'\u001b[0m\u001b[1;33m]\u001b[0m \u001b[1;33m==\u001b[0m \u001b[0mrow\u001b[0m\u001b[1;33m[\u001b[0m\u001b[1;34m\"ticker\"\u001b[0m\u001b[1;33m]\u001b[0m\u001b[1;33m]\u001b[0m\u001b[1;33m[\u001b[0m\u001b[1;34m\"Sector\"\u001b[0m\u001b[1;33m]\u001b[0m\u001b[1;33m.\u001b[0m\u001b[0mvalues\u001b[0m\u001b[1;33m[\u001b[0m\u001b[1;36m0\u001b[0m\u001b[1;33m]\u001b[0m\u001b[1;33m\u001b[0m\u001b[1;33m\u001b[0m\u001b[0m\n\u001b[0;32m      5\u001b[0m     \u001b[1;31m#print(sector)\u001b[0m\u001b[1;33m\u001b[0m\u001b[1;33m\u001b[0m\u001b[1;33m\u001b[0m\u001b[0m\n",
      "\u001b[1;31mNameError\u001b[0m: name 'final_focus_IPO' is not defined"
     ]
    }
   ],
   "source": [
    "sectors_IPO = {}\n",
    "for index, row in final_focus_IPO.iterrows():\n",
    "    exchange = stocks.loc[stocks['Symbol'] == row[\"ticker\"]][\"Exchange\"].values[0]\n",
    "    sector = stocks.loc[stocks['Symbol'] == row[\"ticker\"]][\"Sector\"].values[0]\n",
    "    #print(sector)\n",
    "    industry = stocks.loc[stocks['Symbol'] == row[\"ticker\"]][\"Industry\"].values[0]\n",
    "    #print(industry)\n",
    "    if sector not in sectors_IPO.keys():\n",
    "        sectors_IPO[sector] = {}\n",
    "        \n",
    "    if industry not in sectors_IPO[sector].keys():\n",
    "        #print(industry)\n",
    "        sectors_IPO[sector][industry] = []\n",
    "    \n",
    "    #print(sectors_IPO)\n",
    "            #print(sectors_IPO[sector])\n",
    "    sectors_IPO[sector][industry].append(row[\"ticker\"])\n"
   ]
  },
  {
   "cell_type": "code",
   "execution_count": 67,
   "metadata": {},
   "outputs": [
    {
     "data": {
      "text/plain": [
       "{'Transportation': {'Air freight_Couriers': ['CART'], 'Trucking': ['PAL']},\n",
       " 'Industrial services': {'Contract drilling': ['SDRL']},\n",
       " 'Technology services': {'Data processing services': ['CORZ'],\n",
       "  'Packaged software': ['LIF', 'ULS']},\n",
       " 'Electronic technology': {'Electronic equipment_Instruments': ['NXT', 'DBD'],\n",
       "  'Semiconductors': ['ALAB', 'ARM']},\n",
       " 'Finance': {'Financial conglomerates': ['MSDL'], 'Regional banks': ['NBBK']},\n",
       " 'Consumer durables': {'Homebuilding': ['SDHC']},\n",
       " 'Consumer services': {'Hotels_Resorts_Cruise lines': ['ATAT'],\n",
       "  'Movies_Entertainment': ['MSGE'],\n",
       "  'Restaurants': ['CAVA']},\n",
       " 'Energy minerals': {'Integrated oil': ['TXO']},\n",
       " 'Health technology': {'Medical specialties': ['GRAL'],\n",
       "  'Pharmaceuticals: major': ['SLRN', 'BHVN']},\n",
       " 'Health services': {'Medical_Nursing services': ['SOLV']},\n",
       " 'Non-energy minerals': {'Precious metals': ['TFPM']},\n",
       " 'Distribution services': {'Wholesale distributors': ['GCT']}}"
      ]
     },
     "execution_count": 67,
     "metadata": {},
     "output_type": "execute_result"
    }
   ],
   "source": [
    "sectors_IPO"
   ]
  },
  {
   "cell_type": "code",
   "execution_count": 68,
   "metadata": {},
   "outputs": [],
   "source": [
    "bam_IPO = []\n",
    "industries_not_interested = []\n",
    "for sector,values in sectors_IPO.items():\n",
    "    if sector not in industries_not_interested:\n",
    "        for industry in values.values():\n",
    "            for ticker in list(industry):\n",
    "                bam_IPO.append(ticker)"
   ]
  },
  {
   "cell_type": "code",
   "execution_count": 69,
   "metadata": {},
   "outputs": [
    {
     "data": {
      "text/plain": [
       "['CART',\n",
       " 'PAL',\n",
       " 'SDRL',\n",
       " 'CORZ',\n",
       " 'LIF',\n",
       " 'ULS',\n",
       " 'NXT',\n",
       " 'DBD',\n",
       " 'ALAB',\n",
       " 'ARM',\n",
       " 'MSDL',\n",
       " 'NBBK',\n",
       " 'SDHC',\n",
       " 'ATAT',\n",
       " 'MSGE',\n",
       " 'CAVA',\n",
       " 'TXO',\n",
       " 'GRAL',\n",
       " 'SLRN',\n",
       " 'BHVN',\n",
       " 'SOLV',\n",
       " 'TFPM',\n",
       " 'GCT']"
      ]
     },
     "execution_count": 69,
     "metadata": {},
     "output_type": "execute_result"
    }
   ],
   "source": [
    "bam_IPO"
   ]
  },
  {
   "cell_type": "code",
   "execution_count": null,
   "metadata": {},
   "outputs": [],
   "source": []
  },
  {
   "cell_type": "code",
   "execution_count": null,
   "metadata": {},
   "outputs": [],
   "source": []
  },
  {
   "cell_type": "markdown",
   "metadata": {},
   "source": [
    "### Industries in each sector"
   ]
  },
  {
   "cell_type": "code",
   "execution_count": 5,
   "metadata": {},
   "outputs": [],
   "source": [
    "a = stocks['Industry'].unique()\n",
    "#for index, row in stocks.iterrows():\n",
    "sectors = {}\n",
    "for industry in a:\n",
    "    sector = stocks.loc[stocks['Industry'] == industry][\"Sector\"].values[0]\n",
    "    if sector not in sectors:\n",
    "        sectors[sector] = []\n",
    "    sectors[sector].append(industry)"
   ]
  },
  {
   "cell_type": "code",
   "execution_count": 13,
   "metadata": {},
   "outputs": [
    {
     "data": {
      "text/plain": [
       "{'Utilities': ['Gas distributors',\n",
       "  'Alternative power generation',\n",
       "  'Water utilities',\n",
       "  'Electric utilities'],\n",
       " 'Industrial services': ['Oil & gas pipelines',\n",
       "  'Oilfield services/Equipment',\n",
       "  'Environmental services',\n",
       "  'Engineering & construction',\n",
       "  'Contract drilling'],\n",
       " 'Health technology': ['Biotechnology',\n",
       "  'Pharmaceuticals: other',\n",
       "  'Pharmaceuticals: major',\n",
       "  'Medical specialties',\n",
       "  'Pharmaceuticals: generic'],\n",
       " 'Finance': ['Real estate development',\n",
       "  'Investment banks/Brokers',\n",
       "  'Investment managers',\n",
       "  'Real estate investment trusts',\n",
       "  'Insurance brokers/Services',\n",
       "  'Regional banks',\n",
       "  'Property/Casualty insurance',\n",
       "  'Finance/Rental/Leasing',\n",
       "  'Financial conglomerates',\n",
       "  'Major banks',\n",
       "  'Multi-line insurance',\n",
       "  'Savings banks',\n",
       "  'Life/Health insurance',\n",
       "  'Specialty insurance'],\n",
       " 'Transportation': ['Marine shipping',\n",
       "  'Trucking',\n",
       "  'Air freight/Couriers',\n",
       "  'Other transportation',\n",
       "  'Airlines',\n",
       "  'Railroads'],\n",
       " 'Technology services': ['Packaged software',\n",
       "  'Internet software/Services',\n",
       "  'Information technology services',\n",
       "  'Data processing services'],\n",
       " 'Consumer non-durables': ['Apparel/Footwear',\n",
       "  'Food: meat/fish/dairy',\n",
       "  'Household/Personal care',\n",
       "  'Food: specialty/candy',\n",
       "  'Food: major diversified',\n",
       "  'Beverages: non-alcoholic',\n",
       "  'Beverages: alcoholic',\n",
       "  'Tobacco',\n",
       "  'Consumer sundries'],\n",
       " 'Retail trade': ['Internet retail',\n",
       "  'Specialty stores',\n",
       "  'Apparel/Footwear retail',\n",
       "  'Food retail',\n",
       "  'Department stores',\n",
       "  'Electronics/Appliance stores',\n",
       "  'Discount stores',\n",
       "  'Home improvement chains',\n",
       "  'Drugstore chains'],\n",
       " 'Consumer services': ['Casinos/Gaming',\n",
       "  'Restaurants',\n",
       "  'Movies/Entertainment',\n",
       "  'Hotels/Resorts/Cruise lines',\n",
       "  'Broadcasting',\n",
       "  'Media conglomerates',\n",
       "  'Other consumer services',\n",
       "  'Cable/Satellite TV',\n",
       "  'Publishing: newspapers',\n",
       "  'Publishing: books/magazines'],\n",
       " 'Electronic technology': ['Aerospace & defense',\n",
       "  'Semiconductors',\n",
       "  'Electronic components',\n",
       "  'Electronic equipment/Instruments',\n",
       "  'Computer communications',\n",
       "  'Telecommunications equipment',\n",
       "  'Computer peripherals',\n",
       "  'Computer processing hardware',\n",
       "  'Electronic production equipment'],\n",
       " 'Non-energy minerals': ['Aluminum',\n",
       "  'Other metals/Minerals',\n",
       "  'Steel',\n",
       "  'Forest products',\n",
       "  'Precious metals',\n",
       "  'Construction materials'],\n",
       " 'Process industries': ['Chemicals: agricultural',\n",
       "  'Pulp & paper',\n",
       "  'Agricultural commodities/Milling',\n",
       "  'Chemicals: specialty',\n",
       "  'Containers/Packaging',\n",
       "  'Industrial specialties',\n",
       "  'Chemicals: major diversified',\n",
       "  'Textiles'],\n",
       " 'Health services': ['Hospital/Nursing management',\n",
       "  'Medical/Nursing services',\n",
       "  'Services to the health industry',\n",
       "  'Managed health care'],\n",
       " 'Producer manufacturing': ['Electrical products',\n",
       "  'Industrial machinery',\n",
       "  'Trucks/Construction/Farm machinery',\n",
       "  'Auto parts: OEM',\n",
       "  'Building products',\n",
       "  'Metal fabrication',\n",
       "  'Miscellaneous manufacturing',\n",
       "  'Office equipment/Supplies',\n",
       "  'Industrial conglomerates'],\n",
       " 'Energy minerals': ['Oil & gas production',\n",
       "  'Coal',\n",
       "  'Integrated oil',\n",
       "  'Oil refining/Marketing'],\n",
       " 'Communications': ['Major telecommunications',\n",
       "  'Specialty telecommunications',\n",
       "  'Wireless telecommunications'],\n",
       " 'Commercial services': ['Miscellaneous commercial services',\n",
       "  'Advertising/Marketing services',\n",
       "  'Commercial printing/Forms',\n",
       "  'Personnel services',\n",
       "  'Financial publishing/Services'],\n",
       " 'Distribution services': ['Wholesale distributors',\n",
       "  'Food distributors',\n",
       "  'Medical distributors',\n",
       "  'Electronics distributors'],\n",
       " 'Consumer durables': ['Recreational products',\n",
       "  'Motor vehicles',\n",
       "  'Automotive aftermarket',\n",
       "  'Homebuilding',\n",
       "  'Electronics/Appliances',\n",
       "  'Home furnishings',\n",
       "  'Other consumer specialties',\n",
       "  'Tools & hardware'],\n",
       " 'Miscellaneous': ['Investment trusts/Mutual funds', 'Miscellaneous']}"
      ]
     },
     "execution_count": 13,
     "metadata": {},
     "output_type": "execute_result"
    }
   ],
   "source": [
    "sectors"
   ]
  },
  {
   "cell_type": "code",
   "execution_count": null,
   "metadata": {},
   "outputs": [],
   "source": [
    "a = {\"Materials\":[\"Process industries\", \"Non-energy minerals\"], \"Energy\":[\"Energy minerals\", 'Oil & gas pipelines', 'Oilfield services/Equipment'], \"Industrials\": ['Producer manufacturing', 'Industrial services', 'Aerospace & defense', 'Electronic technology', 'Transportation'], \"Consumer Discretionary\":['Consumer durables', 'Consumer services', 'Retail trade', 'Distribution services'], \"Consumer Staples\":['Consumer non-durables'], \"Health Care\":['Health technology', 'Health services']\n",
    "     , \"Financials\": ['Finance'], \"Information Technology\":['Technology services','Semiconductors'], \"Communication Services\":['Communications'], \"Utilities\":['Utilities'],\"Real Estate\":[] }"
   ]
  },
  {
   "cell_type": "code",
   "execution_count": 52,
   "metadata": {},
   "outputs": [
    {
     "data": {
      "text/plain": [
       "['GOLD',\n",
       " 'NEM',\n",
       " 'AEM',\n",
       " 'KGC',\n",
       " 'WPM',\n",
       " 'FNV',\n",
       " 'GFI',\n",
       " 'RGLD',\n",
       " 'HMY',\n",
       " 'AU',\n",
       " 'IAG',\n",
       " 'AGI',\n",
       " 'EGO']"
      ]
     },
     "execution_count": 52,
     "metadata": {},
     "output_type": "execute_result"
    }
   ],
   "source": [
    "sectors[\"Non-energy minerals\"][\"Precious metals\"]"
   ]
  }
 ],
 "metadata": {
  "kernelspec": {
   "display_name": "Python 3",
   "language": "python",
   "name": "python3"
  },
  "language_info": {
   "codemirror_mode": {
    "name": "ipython",
    "version": 3
   },
   "file_extension": ".py",
   "mimetype": "text/x-python",
   "name": "python",
   "nbconvert_exporter": "python",
   "pygments_lexer": "ipython3",
   "version": "3.12.3"
  }
 },
 "nbformat": 4,
 "nbformat_minor": 2
}
