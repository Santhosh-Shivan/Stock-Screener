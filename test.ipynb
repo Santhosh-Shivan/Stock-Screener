{
 "cells": [
  {
   "cell_type": "code",
   "execution_count": 1,
   "metadata": {},
   "outputs": [
    {
     "name": "stdout",
     "output_type": "stream",
     "text": [
      "reading from file:  yahoo_data/US/SPY2023-12-012024-05-12.csv\n",
      "reading from file:  yahoo_data/US/POWL2023-12-012024-05-12.csv\n",
      "set()\n"
     ]
    }
   ],
   "source": [
    "import datetime\n",
    "import fetcher\n",
    "import pandas as pd\n",
    "from finta import TA\n",
    "\n",
    "startDate = datetime.date(2023, 12, 1)\n",
    "endDate = datetime.date(2024, 5, 12)\n",
    "#endDate = datetime.date.today()\n",
    "Stocks_list = [\"POWL\"]\n",
    "\n",
    "\n",
    "focus_list_vol = {}\n",
    "focus_list_ADR = {}\n",
    "focus_list_3Month = {}\n",
    "focus_list_1Month = {}\n",
    "focus_list_RS = {}\n",
    "focus_list_RS_min_max = {}\n",
    "focus_list_EMA10 = []\n",
    "focus_candleSize = {}\n",
    "\n",
    "index_df = fetcher.__download_data( [\"SPY\"], startDate, endDate, \"US\")\n",
    "\n",
    "for ticker in Stocks_list:\n",
    "\n",
    "    #Neglecting tickers with .A or .B or \"/\" in their names\n",
    "    if len(ticker.split(\".\")) >1 or len(ticker.split(\"/\")) >1:\n",
    "        continue\n",
    "    df = fetcher.__download_data([ticker], startDate, endDate, \"US\")\n",
    "    #Neglecting tickers with len < 66\n",
    "    if len(df) < 66:\n",
    "        continue\n",
    "    \n",
    "    # Avg Volume*Price\n",
    "    df_temp = df.iloc[-50:]\n",
    "    avg_dollar_vol = 0\n",
    "    for index, row in df_temp.iterrows():\n",
    "        avg_dollar_vol += (\n",
    "            df_temp.loc[index, \"Volume\"] * df_temp.loc[index, \"Close\"]\n",
    "        ) / 50\n",
    "    if avg_dollar_vol >= 20000000 and avg_dollar_vol < 100000000:\n",
    "        focus_list_vol[ticker] = avg_dollar_vol\n",
    " \n",
    "    # ADR%\n",
    "    df_temp = df.iloc[-20:]\n",
    "    sum = 0\n",
    "    for index, row in df_temp.iterrows():\n",
    "        sum += (df_temp.loc[index, \"High\"] / df_temp.loc[index, \"Low\"]) / 20\n",
    "\n",
    "    ADR = 100 * (sum - 1)\n",
    "    if ADR >= 3.5:\n",
    "        focus_list_ADR[ticker] = ADR\n",
    "\n",
    "    # Low near to or less than EMA10\n",
    "    if df.tail(1)[\"Low\"].iloc[-1] <= (1+ADR/300)*(TA.EMA(df, period = 10).tail(1).iloc[-1]):\n",
    "        focus_list_EMA10.append(ticker)\n",
    "\n",
    "    focus_list_RS_min_max[ticker] = 0\n",
    "    # Relative Strength low-high ratio 3M\n",
    "    index_df_temp = index_df.iloc[-66:]\n",
    "    df_temp = df.iloc[-66:]\n",
    "    for i in range(1,4):\n",
    "        index_df_temp_1M = index_df_temp[(i-1)*22:i*22]\n",
    "        df_temp_1M = df_temp[(i-1)*22:i*22]\n",
    "        RS = df_temp_1M[\"Close\"].values/index_df_temp_1M[\"Close\"].values\n",
    "        min = RS[0]\n",
    "        max = RS[1]\n",
    "        for i in range(len(RS)-1):\n",
    "            for j in range(i+1, len(RS)):\n",
    "                if RS[j] > RS[i]:\n",
    "                    if (RS[j]-RS[i])/RS[i] * 100 > (max-min)/min *100:\n",
    "                        max = RS[j]\n",
    "                        min = RS[i]\n",
    "\n",
    "        RS_change_perc = (max-min)/min * 100\n",
    "        if i ==3:\n",
    "            focus_list_RS_min_max[ticker] += .5*RS_change_perc\n",
    "        else:\n",
    "            focus_list_RS_min_max[ticker] += .25*RS_change_perc\n",
    "\n",
    "    #Check candle size less than ADR%\n",
    "    change = (df[\"High\"][-1]/df[\"Low\"][-1] -1)*100\n",
    "    if change <= ADR*1.5 and change <= 7:\n",
    "        focus_candleSize[ticker] = change\n",
    "\n",
    "    \n",
    "    # Relative Strength 1M\n",
    "    \"\"\"index_df_temp = index_df.iloc[-22:]\n",
    "    df_temp = df.iloc[-22:]\n",
    "\n",
    "    start_RS = df_temp.iloc[0][\"Close\"]/index_df_temp.iloc[0][\"Close\"]\n",
    "    end_RS = df_temp.iloc[-1][\"Close\"]/index_df_temp.iloc[-1][\"Close\"]\n",
    "\n",
    "    RS_change_perc = (end_RS-start_RS)/start_RS *100\n",
    "\n",
    "    focus_list_RS[ticker] = RS_change_perc\"\"\"\n",
    "\n",
    "\n",
    "    # 1Month% performance\n",
    "    \"\"\"df_temp = df.iloc[-22:]\n",
    "    df_low = df_temp[\"Low\"]\n",
    "    df_high = df_temp[\"High\"]\n",
    "    low = df_low[0]\n",
    "    high = df_high[1]\n",
    "    max_change_perc = 0\n",
    "    for i in range(len(df_low)-1):\n",
    "        for j in range(i, len(df_high)):\n",
    "            change_perc = (df_high[j]-df_low[i])/df_low[i] * 100\n",
    "            if change_perc > max_change_perc:\n",
    "                max_change_perc = change_perc\n",
    "        \n",
    "    focus_list_1Month[ticker] = change_perc\"\"\"\n",
    "    \"\"\"if change_perc >= 20 :\n",
    "        focus_list_1Month[ticker] = change_perc\"\"\"\n",
    "\n",
    "    # 3Month% performance\n",
    "    \n",
    "    \"\"\"df_temp = df.iloc[-66:]\n",
    "    df_low = df_temp[\"Low\"]\n",
    "    df_high = df_temp[\"High\"]\n",
    "    low = df_low[0]\n",
    "    high = df_high[1]\n",
    "    max_change_perc = 0\n",
    "    for i in range(len(df_low)-1):\n",
    "        for j in range(i, len(df_high)):\n",
    "            change_perc = (df_high[j]-df_low[i])/df_low[i] * 100\n",
    "            if change_perc > max_change_perc:\n",
    "                max_change_perc = change_perc\n",
    "        \n",
    "    focus_list_3Month[ticker] = change_perc\"\"\"\n",
    "    \"\"\"if change_perc >= 20 :\n",
    "        focus_list_3Month[ticker] = change_perc\"\"\"\n",
    "    \n",
    "final_focus = set(focus_list_ADR.keys()) & set(focus_list_vol.keys()) & set(focus_list_EMA10) & set(focus_candleSize)\n",
    "print(final_focus)"
   ]
  },
  {
   "cell_type": "code",
   "execution_count": 9,
   "metadata": {},
   "outputs": [
    {
     "data": {
      "text/plain": [
       "161.97005999629056"
      ]
     },
     "execution_count": 9,
     "metadata": {},
     "output_type": "execute_result"
    }
   ],
   "source": [
    "(1+ADR/300)*TA.EMA(df, period = 10).tail(1).iloc[-1]"
   ]
  },
  {
   "cell_type": "code",
   "execution_count": 6,
   "metadata": {},
   "outputs": [
    {
     "data": {
      "text/plain": [
       "set()"
      ]
     },
     "execution_count": 6,
     "metadata": {},
     "output_type": "execute_result"
    }
   ],
   "source": [
    "set(focus_list_ADR.keys()) & set(focus_candleSize)  & set(focus_list_EMA10)"
   ]
  },
  {
   "cell_type": "code",
   "execution_count": 7,
   "metadata": {},
   "outputs": [
    {
     "data": {
      "text/plain": [
       "[]"
      ]
     },
     "execution_count": 7,
     "metadata": {},
     "output_type": "execute_result"
    }
   ],
   "source": [
    "focus_list_EMA10"
   ]
  }
 ],
 "metadata": {
  "kernelspec": {
   "display_name": "Python 3",
   "language": "python",
   "name": "python3"
  },
  "language_info": {
   "codemirror_mode": {
    "name": "ipython",
    "version": 3
   },
   "file_extension": ".py",
   "mimetype": "text/x-python",
   "name": "python",
   "nbconvert_exporter": "python",
   "pygments_lexer": "ipython3",
   "version": "3.9.0"
  }
 },
 "nbformat": 4,
 "nbformat_minor": 2
}
