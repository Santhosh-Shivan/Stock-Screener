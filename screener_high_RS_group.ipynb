{
 "cells": [
  {
   "cell_type": "code",
   "execution_count": 1,
   "metadata": {},
   "outputs": [
    {
     "name": "stdout",
     "output_type": "stream",
     "text": [
      "reading from file:  yahoo_data/US/SPY2023-12-012024-05-07.csv\n",
      "fetching data from API for XLB\n",
      "fetching data from API for XLC\n",
      "fetching data from API for XLY\n",
      "fetching data from API for XLP\n",
      "fetching data from API for XLE\n",
      "fetching data from API for XLF\n",
      "fetching data from API for XLV\n",
      "fetching data from API for XLI\n",
      "fetching data from API for XLRE\n",
      "fetching data from API for XLK\n",
      "fetching data from API for XLU\n",
      "fetching data from API for SMH\n",
      "fetching data from API for IGV\n",
      "fetching data from API for ROBT\n",
      "fetching data from API for TAN\n",
      "fetching data from API for HACK\n",
      "fetching data from API for PBW\n",
      "fetching data from API for IBB\n",
      "fetching data from API for AIQ\n",
      "fetching data from API for GCLN\n",
      "fetching data from API for SMOG\n",
      "fetching data from API for PSL\n",
      "fetching data from API for PXE\n"
     ]
    }
   ],
   "source": [
    "import datetime\n",
    "import fetcher\n",
    "import pandas as pd\n",
    "from finta import TA\n",
    "\n",
    "startDate = datetime.date(2023, 12, 1)\n",
    "# endDate = datetime.date(2019, 12, 15)\n",
    "endDate = datetime.date.today()\n",
    "#Solar - TAN, \n",
    "#Semiconductor - SMH\n",
    "#AI&Robt - ROBT, AIQ\n",
    "#Software - IGV\n",
    "#Clean energy - PBW, GCLN, SMOG\n",
    "#Biotech - IBB\n",
    "#Exploration%Production - PXE\n",
    "#COnsumer staples - PSL\n",
    "group_ETFs = ['XLB', 'XLC', 'XLY', 'XLP', 'XLE', 'XLF', 'XLV', 'XLI', 'XLRE', 'XLK', 'XLU', 'SMH', 'IGV', 'ROBT', 'TAN', 'HACK', 'PBW', 'IBB', 'AIQ', 'GCLN', 'SMOG', 'PSL', 'PXE']\n",
    "\n",
    "\n",
    "focus_list_3Month = {}\n",
    "focus_list_1Month = {}\n",
    "focus_list_RS = {}\n",
    "focus_list_RS_min_max = {}\n",
    "\n",
    "index_df = fetcher.__download_data( ['SPY'], startDate, endDate, 'US')\n",
    "index_df_temp = index_df.iloc[-22:]\n",
    "for ticker in group_ETFs:\n",
    "    df = fetcher.__download_data([ticker], startDate, endDate, 'US')\n",
    "    \n",
    "    # Relative Strength 1M\n",
    "    \n",
    "    df_temp = df.iloc[-22:]\n",
    "\n",
    "    start_RS = df_temp.iloc[0]['Close']/index_df_temp.iloc[0]['Close']\n",
    "    end_RS = df_temp.iloc[-1]['Close']/index_df_temp.iloc[-1]['Close']\n",
    "\n",
    "    RS_change_perc = (end_RS-start_RS)/start_RS *100\n",
    "\n",
    "    focus_list_RS[ticker] = RS_change_perc\n",
    "\n",
    "    # Relative Strength low-high ratio 1M\n",
    "    df_temp = df.iloc[-22:]\n",
    "    RS = df_temp['Close']/index_df_temp['Close']\n",
    "    min = RS[0]\n",
    "    max = RS[1]\n",
    "    for i in range(len(RS)-1):\n",
    "        for j in range(i+1, len(RS)):\n",
    "            if RS[j] > RS[i]:\n",
    "                if (RS[j]-RS[i])/RS[i] * 100 > (max-min)/min *100:\n",
    "                    max = RS[j]\n",
    "                    min = RS[i]\n",
    "\n",
    "    RS_change_perc = (max-min)/min * 100\n",
    "\n",
    "    focus_list_RS_min_max[ticker] = RS_change_perc\n",
    "    \n",
    "\n",
    "    # 1Month% performance\n",
    "    df_temp = df.iloc[-22:]\n",
    "    df_low = df_temp['Low']\n",
    "    df_high = df_temp['High']\n",
    "    low = df_low[0]\n",
    "    high = df_high[1]\n",
    "    max_change_perc = 0\n",
    "    for i in range(len(df_low)-1):\n",
    "        for j in range(i, len(df_high)):\n",
    "            change_perc = (df_high[j]-df_low[i])/df_low[i] * 100\n",
    "            if change_perc > max_change_perc:\n",
    "                max_change_perc = change_perc\n",
    "        \n",
    "    focus_list_1Month[ticker] = change_perc\n",
    "    \"\"\"if change_perc >= 20 :\n",
    "        focus_list_1Month[ticker] = change_perc\"\"\"\n",
    "\n",
    "    # 3Month% performance\n",
    "    \n",
    "    df_temp = df.iloc[-66:]\n",
    "    df_low = df_temp['Low']\n",
    "    df_high = df_temp['High']\n",
    "    low = df_low[0]\n",
    "    high = df_high[1]\n",
    "    max_change_perc = 0\n",
    "    for i in range(len(df_low)-1):\n",
    "        for j in range(i, len(df_high)):\n",
    "            change_perc = (df_high[j]-df_low[i])/df_low[i] * 100\n",
    "            if change_perc > max_change_perc:\n",
    "                max_change_perc = change_perc\n",
    "        \n",
    "    focus_list_3Month[ticker] = change_perc\n",
    "    \"\"\"if change_perc >= 20 :\n",
    "        focus_list_3Month[ticker] = change_perc\"\"\""
   ]
  },
  {
   "cell_type": "markdown",
   "metadata": {},
   "source": [
    "## Ranking by RS_min_max"
   ]
  },
  {
   "cell_type": "code",
   "execution_count": 2,
   "metadata": {},
   "outputs": [],
   "source": [
    "focus_list_RS_min_max = {ticker: RS for ticker, RS in sorted(focus_list_RS_min_max.items(), key=lambda item: item[1], reverse=True)}"
   ]
  },
  {
   "cell_type": "code",
   "execution_count": 3,
   "metadata": {},
   "outputs": [
    {
     "data": {
      "text/plain": [
       "dict_keys(['PBW', 'XLU', 'SMOG', 'SMH', 'TAN', 'GCLN', 'XLP', 'IBB', 'XLF', 'PSL', 'XLY', 'XLV', 'ROBT', 'AIQ', 'XLE', 'PXE', 'XLK', 'XLB', 'XLRE', 'XLC', 'HACK', 'XLI', 'IGV'])"
      ]
     },
     "execution_count": 3,
     "metadata": {},
     "output_type": "execute_result"
    }
   ],
   "source": [
    "focus_list_RS_min_max.keys()"
   ]
  },
  {
   "cell_type": "code",
   "execution_count": 4,
   "metadata": {},
   "outputs": [
    {
     "data": {
      "text/plain": [
       "{'PBW': 11.266345572855817,\n",
       " 'XLU': 8.234927380293135,\n",
       " 'SMOG': 7.787320895102863,\n",
       " 'SMH': 7.143770606544752,\n",
       " 'TAN': 6.338045941828613,\n",
       " 'GCLN': 6.135442468821297,\n",
       " 'XLP': 5.148675814970173,\n",
       " 'IBB': 4.492104872075977,\n",
       " 'XLF': 4.347401001027758,\n",
       " 'PSL': 4.098909334333652,\n",
       " 'XLY': 3.42561989536096,\n",
       " 'XLV': 3.3259757894601325,\n",
       " 'ROBT': 2.7286811172581356,\n",
       " 'AIQ': 2.528063137214024,\n",
       " 'XLE': 2.370417528676244,\n",
       " 'PXE': 2.2549746379147697,\n",
       " 'XLK': 2.1802297673762836,\n",
       " 'XLB': 2.0672293400097237,\n",
       " 'XLRE': 1.9614862145165648,\n",
       " 'XLC': 1.7934444467163024,\n",
       " 'HACK': 1.7550578578326603,\n",
       " 'XLI': 1.4858412245741486,\n",
       " 'IGV': 0.9786002323349802}"
      ]
     },
     "execution_count": 4,
     "metadata": {},
     "output_type": "execute_result"
    }
   ],
   "source": [
    "focus_list_RS_min_max"
   ]
  },
  {
   "cell_type": "code",
   "execution_count": null,
   "metadata": {},
   "outputs": [],
   "source": []
  }
 ],
 "metadata": {
  "kernelspec": {
   "display_name": "Python 3",
   "language": "python",
   "name": "python3"
  },
  "language_info": {
   "codemirror_mode": {
    "name": "ipython",
    "version": 3
   },
   "file_extension": ".py",
   "mimetype": "text/x-python",
   "name": "python",
   "nbconvert_exporter": "python",
   "pygments_lexer": "ipython3",
   "version": "3.9.0"
  }
 },
 "nbformat": 4,
 "nbformat_minor": 2
}
